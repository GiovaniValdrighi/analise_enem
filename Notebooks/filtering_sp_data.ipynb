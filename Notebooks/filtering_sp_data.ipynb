{
 "cells": [
  {
   "cell_type": "code",
   "execution_count": 14,
   "metadata": {},
   "outputs": [],
   "source": [
    "import pandas as pd\n",
    "import numpy as np"
   ]
  },
  {
   "cell_type": "code",
   "execution_count": 22,
   "metadata": {},
   "outputs": [],
   "source": [
    "chunk_iter = pd.read_csv(\"data/MICRODADOS_ENEM_2019.csv\", encoding = 'latin1', sep = \";\", chunksize = 1000000)"
   ]
  },
  {
   "cell_type": "code",
   "execution_count": 23,
   "metadata": {},
   "outputs": [],
   "source": [
    "total_rows = 0\n",
    "chunks_filtered = []\n",
    "for chunk in chunk_iter:\n",
    "    total_rows += chunk.shape[0]\n",
    "    chunks_filtered.append(chunk[chunk['SG_UF_RESIDENCIA'] == 'SP'])\n",
    "df_sp = pd.concat(chunks_filtered)"
   ]
  },
  {
   "cell_type": "code",
   "execution_count": 24,
   "metadata": {},
   "outputs": [
    {
     "name": "stdout",
     "output_type": "stream",
     "text": [
      "Total rows: 5095270\n",
      "Total columns: 136\n",
      "\n",
      "Keeping only the rows with data from the state of São Paulo\n",
      "Remaining rows: 813772\n",
      "Removing columns with information that will not be used:\n",
      "Columns with information about each one of the question from the test\n",
      "TX_RESPOSTAS_CN   TX_RESPOSTAS_CH   TX_RESPOSTAS_LC   TX_RESPOSTAS_MT  \n",
      "TX_GABARITO_CN   TX_GABARITO_CH   TX_GABARITO_LC   TX_GABARITO_MT\n",
      "Remaing columns: 128\n"
     ]
    }
   ],
   "source": [
    "print(f\"Total rows: {total_rows}\")\n",
    "print(f\"Total columns: {df_sp.shape[1]}\")\n",
    "print()\n",
    "print(\"Keeping only the rows with data from the state of São Paulo\")\n",
    "print(f\"Remaining rows: {df_sp.shape[0]}\")\n",
    "print(\"Removing columns with information that will not be used:\")\n",
    "print(\"Columns with information about each one of the question from the test\")\n",
    "print(\"TX_RESPOSTAS_CN   TX_RESPOSTAS_CH   TX_RESPOSTAS_LC   TX_RESPOSTAS_MT  \\nTX_GABARITO_CN   TX_GABARITO_CH   TX_GABARITO_LC   TX_GABARITO_MT\")\n",
    "df_sp = df_sp.drop(columns = ['TX_RESPOSTAS_CN', 'TX_RESPOSTAS_CH','TX_RESPOSTAS_LC','TX_RESPOSTAS_MT',\n",
    "                              'TX_GABARITO_CN','TX_GABARITO_CH','TX_GABARITO_LC','TX_GABARITO_MT'])\n",
    "print(f\"Remaing columns: {df_sp.shape[1]}\")"
   ]
  },
  {
   "cell_type": "code",
   "execution_count": 19,
   "metadata": {},
   "outputs": [],
   "source": [
    "df_sp.to_csv(\"data/MICRODADOS_ENEM_SP_2019.csv\", index = False)"
   ]
  },
  {
   "cell_type": "code",
   "execution_count": 2,
   "metadata": {},
   "outputs": [],
   "source": [
    "df = pd.read_csv('data/MICRODADOS_ENEM_SP_2019.csv')"
   ]
  },
  {
   "cell_type": "code",
   "execution_count": 3,
   "metadata": {},
   "outputs": [
    {
     "data": {
      "text/plain": [
       "(712032, 128)"
      ]
     },
     "execution_count": 3,
     "metadata": {},
     "output_type": "execute_result"
    }
   ],
   "source": [
    "df.shape"
   ]
  },
  {
   "cell_type": "code",
   "execution_count": 7,
   "metadata": {},
   "outputs": [
    {
     "data": {
      "text/plain": [
       "Index(['CO_MUNICIPIO_NASCIMENTO', 'NO_MUNICIPIO_NASCIMENTO',\n",
       "       'CO_UF_NASCIMENTO', 'SG_UF_NASCIMENTO', 'TP_ENSINO', 'CO_ESCOLA',\n",
       "       'CO_MUNICIPIO_ESC', 'NO_MUNICIPIO_ESC', 'CO_UF_ESC', 'SG_UF_ESC',\n",
       "       'TP_DEPENDENCIA_ADM_ESC', 'TP_LOCALIZACAO_ESC', 'TP_SIT_FUNC_ESC',\n",
       "       'CO_PROVA_CN', 'CO_PROVA_CH', 'CO_PROVA_LC', 'CO_PROVA_MT',\n",
       "       'NU_NOTA_CN', 'NU_NOTA_CH', 'NU_NOTA_LC', 'NU_NOTA_MT',\n",
       "       'TP_STATUS_REDACAO', 'NU_NOTA_COMP1', 'NU_NOTA_COMP2', 'NU_NOTA_COMP3',\n",
       "       'NU_NOTA_COMP4', 'NU_NOTA_COMP5', 'NU_NOTA_REDACAO'],\n",
       "      dtype='object')"
      ]
     },
     "execution_count": 7,
     "metadata": {},
     "output_type": "execute_result"
    }
   ],
   "source": [
    "columns_with_nans = list(df.isna().sum() > 0)\n",
    "df.columns[columns_with_nans]"
   ]
  },
  {
   "cell_type": "markdown",
   "metadata": {},
   "source": [
    "Colunas com valores NAN que podem ser removidas: ['CO_MUNICIPIO_NASCIMENTO', 'CO_UF_NASCIMENTO', 'CO_MUNICIPIO_ESC', 'CO_UF_ESC', 'CO_PROVA_CN', 'CO_PROVA_CH', 'CO_PROVA_LC', 'CO_PROVA_MT']."
   ]
  },
  {
   "cell_type": "code",
   "execution_count": 10,
   "metadata": {},
   "outputs": [],
   "source": [
    "columns_not_useful =  ['CO_MUNICIPIO_NASCIMENTO', 'CO_UF_NASCIMENTO', 'CO_MUNICIPIO_ESC', 'CO_UF_ESC', \n",
    "                       'CO_PROVA_CN', 'CO_PROVA_CH', 'CO_PROVA_LC', 'CO_PROVA_MT']\n",
    "df = df.drop(columns = columns_not_useful)"
   ]
  },
  {
   "cell_type": "code",
   "execution_count": 16,
   "metadata": {},
   "outputs": [
    {
     "name": "stdout",
     "output_type": "stream",
     "text": [
      "Colunas com NANs e a taxa de NANs\n",
      "NO_MUNICIPIO_NASCIMENTO: 0.024\n",
      "SG_UF_NASCIMENTO: 0.024\n",
      "TP_ENSINO: 0.466\n",
      "CO_ESCOLA: 0.74\n",
      "NO_MUNICIPIO_ESC: 0.74\n",
      "SG_UF_ESC: 0.74\n",
      "TP_DEPENDENCIA_ADM_ESC: 0.74\n",
      "TP_LOCALIZACAO_ESC: 0.74\n",
      "TP_SIT_FUNC_ESC: 0.74\n",
      "NU_NOTA_CN: 0.289\n",
      "NU_NOTA_CH: 0.242\n",
      "NU_NOTA_LC: 0.242\n",
      "NU_NOTA_MT: 0.289\n",
      "TP_STATUS_REDACAO: 0.242\n",
      "NU_NOTA_COMP1: 0.242\n",
      "NU_NOTA_COMP2: 0.242\n",
      "NU_NOTA_COMP3: 0.242\n",
      "NU_NOTA_COMP4: 0.242\n",
      "NU_NOTA_COMP5: 0.242\n",
      "NU_NOTA_REDACAO: 0.242\n"
     ]
    }
   ],
   "source": [
    "print('Colunas com NANs e a taxa de NANs')\n",
    "nan_tx = list(df.isna().mean())\n",
    "for i, col in enumerate(df.columns):\n",
    "    if nan_tx[i] > 0:\n",
    "        print(col + ': ' + str(np.round(nan_tx[i], 3)))"
   ]
  },
  {
   "cell_type": "markdown",
   "metadata": {},
   "source": [
    "Cerca de 74% dos participantes não responderam informações sobre a escola em que estudam, isso é uma taxa bastante alta de informações que seriam úteis.\n",
    "\n",
    "Além disso, a nota do aluno não está presenta para cerca de 24% dos alunos, informação que seria útil para realizar o treinamento de modelos."
   ]
  },
  {
   "cell_type": "code",
   "execution_count": null,
   "metadata": {},
   "outputs": [],
   "source": []
  }
 ],
 "metadata": {
  "kernelspec": {
   "display_name": "Python 3",
   "language": "python",
   "name": "python3"
  },
  "language_info": {
   "codemirror_mode": {
    "name": "ipython",
    "version": 3
   },
   "file_extension": ".py",
   "mimetype": "text/x-python",
   "name": "python",
   "nbconvert_exporter": "python",
   "pygments_lexer": "ipython3",
   "version": "3.8.3"
  }
 },
 "nbformat": 4,
 "nbformat_minor": 4
}
