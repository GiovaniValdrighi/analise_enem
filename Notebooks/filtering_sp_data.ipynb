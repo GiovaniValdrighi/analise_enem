{
 "cells": [
  {
   "cell_type": "code",
   "execution_count": 1,
   "metadata": {},
   "outputs": [],
   "source": [
    "import pandas as pd\n",
    "import numpy as np"
   ]
  },
  {
   "cell_type": "code",
   "execution_count": 31,
   "metadata": {},
   "outputs": [],
   "source": [
    "chunk_iter = pd.read_csv(\"data/MICRODADOS_ENEM_2019.csv\", encoding = 'latin1', sep = \";\", chunksize = 1000000)"
   ]
  },
  {
   "cell_type": "code",
   "execution_count": 32,
   "metadata": {},
   "outputs": [],
   "source": [
    "total_rows = 0\n",
    "chunks_filtered = []\n",
    "for chunk in chunk_iter:\n",
    "    total_rows += chunk.shape[0]\n",
    "    chunks_filtered.append(chunk[chunk['SG_UF_RESIDENCIA'] == 'SP'])\n",
    "df_sp = pd.concat(chunks_filtered)"
   ]
  },
  {
   "cell_type": "code",
   "execution_count": 33,
   "metadata": {},
   "outputs": [
    {
     "name": "stdout",
     "output_type": "stream",
     "text": [
      "Linhas totais: 5095270\n",
      "Colunas totais: 136\n",
      "\n",
      "Mantendo apenas as linhas do estado de São Paulo\n",
      "Linhas restantes: 813772\n",
      "Removendo colunas que não serão usadas:\n",
      "Colunas com informações sobre cada questão do teste\n",
      "TX_RESPOSTAS_CN   TX_RESPOSTAS_CH   TX_RESPOSTAS_LC   TX_RESPOSTAS_MT  \n",
      "TX_GABARITO_CN   TX_GABARITO_CH   TX_GABARITO_LC   TX_GABARITO_MT\n",
      "Colunas com códigos que não serão úteis:\n",
      "CO_MUNICIPIO_NASCIMENTO  CO_UF_NASCIMENTO   CO_MUNICIPIO_ESC   CO_UF_ESC\n",
      "CO_PROVA_CN   CO_PROVA_CH CO_PROVA_LC  CO_PROVA_MT\n",
      "Colunas restantes: 120\n"
     ]
    }
   ],
   "source": [
    "print(f\"Linhas totais: {total_rows}\")\n",
    "print(f\"Colunas totais: {df_sp.shape[1]}\")\n",
    "print()\n",
    "print(\"Mantendo apenas as linhas do estado de São Paulo\")\n",
    "print(f\"Linhas restantes: {df_sp.shape[0]}\")\n",
    "print(\"Removendo colunas que não serão usadas:\")\n",
    "print(\"Colunas com informações sobre cada questão do teste\")\n",
    "print(\"TX_RESPOSTAS_CN   TX_RESPOSTAS_CH   TX_RESPOSTAS_LC   TX_RESPOSTAS_MT  \\nTX_GABARITO_CN   TX_GABARITO_CH   TX_GABARITO_LC   TX_GABARITO_MT\")\n",
    "df_sp = df_sp.drop(columns = ['TX_RESPOSTAS_CN', 'TX_RESPOSTAS_CH','TX_RESPOSTAS_LC','TX_RESPOSTAS_MT',\n",
    "                              'TX_GABARITO_CN','TX_GABARITO_CH','TX_GABARITO_LC','TX_GABARITO_MT'])\n",
    "print(\"Colunas com códigos que não serão úteis:\")\n",
    "print('CO_MUNICIPIO_NASCIMENTO  CO_UF_NASCIMENTO   CO_MUNICIPIO_ESC   CO_UF_ESC\\nCO_PROVA_CN   CO_PROVA_CH CO_PROVA_LC  CO_PROVA_MT')\n",
    "df_sp = df_sp.drop(columns = ['CO_MUNICIPIO_NASCIMENTO', 'CO_UF_NASCIMENTO', 'CO_MUNICIPIO_ESC',\n",
    "                              'CO_UF_ESC', 'CO_PROVA_CN', 'CO_PROVA_CH', 'CO_PROVA_LC', 'CO_PROVA_MT'])\n",
    "print(f\"Colunas restantes: {df_sp.shape[1]}\")"
   ]
  },
  {
   "cell_type": "code",
   "execution_count": 34,
   "metadata": {},
   "outputs": [],
   "source": [
    "df_sp.to_csv(\"data/MICRODADOS_ENEM_SP_2019.csv\", index = False)"
   ]
  }
 ],
 "metadata": {
  "kernelspec": {
   "display_name": "Python 3",
   "language": "python",
   "name": "python3"
  },
  "language_info": {
   "codemirror_mode": {
    "name": "ipython",
    "version": 3
   },
   "file_extension": ".py",
   "mimetype": "text/x-python",
   "name": "python",
   "nbconvert_exporter": "python",
   "pygments_lexer": "ipython3",
   "version": "3.8.3"
  }
 },
 "nbformat": 4,
 "nbformat_minor": 4
}
