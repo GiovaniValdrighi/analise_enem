{
  "nbformat": 4,
  "nbformat_minor": 0,
  "metadata": {
    "kernelspec": {
      "display_name": "Python 3",
      "language": "python",
      "name": "python3"
    },
    "language_info": {
      "codemirror_mode": {
        "name": "ipython",
        "version": 3
      },
      "file_extension": ".py",
      "mimetype": "text/x-python",
      "name": "python",
      "nbconvert_exporter": "python",
      "pygments_lexer": "ipython3",
      "version": "3.8.3"
    },
    "colab": {
      "name": "modelos_arvore.ipynb",
      "provenance": []
    },
    "accelerator": "GPU"
  },
  "cells": [
    {
      "cell_type": "markdown",
      "metadata": {
        "id": "3wD-ZmJ14wtg"
      },
      "source": [
        "# Modelos de regressão com árvores"
      ]
    },
    {
      "cell_type": "code",
      "metadata": {
        "id": "UdAHHGo47Hew"
      },
      "source": [
        "!pip install catboost"
      ],
      "execution_count": null,
      "outputs": []
    },
    {
      "cell_type": "code",
      "metadata": {
        "id": "iF6HrDdj7zVh"
      },
      "source": [
        "! apt-get install default-jre\n",
        "!java -version"
      ],
      "execution_count": null,
      "outputs": []
    },
    {
      "cell_type": "code",
      "metadata": {
        "id": "N8v1KQ1U-STZ"
      },
      "source": [
        "! pip install h2o"
      ],
      "execution_count": null,
      "outputs": []
    },
    {
      "cell_type": "code",
      "metadata": {
        "id": "VRXo5-gi-j-f",
        "outputId": "c2cf91a0-3afd-4a4d-afd8-766e467828c9",
        "colab": {
          "base_uri": "https://localhost:8080/"
        }
      },
      "source": [
        "from google.colab import drive\n",
        "drive.mount('/content/drive')"
      ],
      "execution_count": 6,
      "outputs": [
        {
          "output_type": "stream",
          "text": [
            "Mounted at /content/drive\n"
          ],
          "name": "stdout"
        }
      ]
    },
    {
      "cell_type": "code",
      "metadata": {
        "id": "IlTxEgx94wth"
      },
      "source": [
        "import pandas as pd\n",
        "import numpy as np\n",
        "import time\n",
        "\n",
        "#training aux\n",
        "from sklearn.model_selection import train_test_split\n",
        "from sklearn.model_selection import cross_val_score\n",
        "\n",
        "#models\n",
        "from sklearn import tree\n",
        "import h2o\n",
        "from catboost import CatBoostRegressor\n",
        "from h2o.estimators import H2ORandomForestEstimator"
      ],
      "execution_count": 1,
      "outputs": []
    },
    {
      "cell_type": "code",
      "metadata": {
        "id": "PXb4R_6b4wti"
      },
      "source": [
        "#df = pd.read_csv('data/ENEM_CLEAN.csv')\n",
        "path = '/content/drive/MyDrive/analise_enem/data/ENEM_CLEAN_WITH_NAN.csv'\n",
        "df = pd.read_csv(path)\n",
        "df = df.loc[:, ~(df == 'FALTANTE').any()]"
      ],
      "execution_count": 14,
      "outputs": []
    },
    {
      "cell_type": "markdown",
      "metadata": {
        "id": "V-u9ALpe4wti"
      },
      "source": [
        "## Modelos com árvore de decisão"
      ]
    },
    {
      "cell_type": "code",
      "metadata": {
        "id": "oJ8gyFmK4wtj",
        "outputId": "37b446be-20fa-4946-f3d1-401988323551",
        "colab": {
          "base_uri": "https://localhost:8080/"
        }
      },
      "source": [
        "#models with numeric variables\n",
        "X = df[[col for col in df.columns if col[0:3] == 'NUM']].drop(columns = ['NUM_NOTA'])\n",
        "X_columns_names = X.columns\n",
        "X = X.values\n",
        "Y = df.NUM_NOTA.values\n",
        "\n",
        "x_train, x_test, y_train, y_test = train_test_split(X, Y, test_size = 0.2, random_state = 1)\n",
        "\n",
        "results_path = '/content/drive/MyDrive/analise_enem/results/decision_tree_numeric.csv'\n",
        "with open(results_path, \"w+\") as f:\n",
        "    f.write(\"max_depth;min_samples_split;min_samples_leaf;time;data;score\")\n",
        "\n",
        "i = 0\n",
        "for max_depth in [10, 15, 20]:\n",
        "    for min_samples_split in [20, 30, 40]:\n",
        "        for min_samples_leaf in [30, 45, 60]:\n",
        "            start = time.time()\n",
        "            model = tree.DecisionTreeRegressor(max_depth= max_depth,\n",
        "                                              min_samples_split = min_samples_split,\n",
        "                                              min_samples_leaf = min_samples_leaf)\n",
        "            \n",
        "            cv_scores = cross_val_score(model, x_train, y_train, cv = 3)\n",
        "            end = time.time()\n",
        "            with open(results_path, \"a\") as f:\n",
        "                f.write(f\"\\n{max_depth};{min_samples_split};{min_samples_leaf};{(end - start)/3:.4f};train;{cv_scores.mean()}\")\n",
        "            i+= 1\n",
        "            if i % 25 == 0:\n",
        "                print(f\"On iteration {i}.\")\n",
        "\n",
        "decision_tree_numeric_results = pd.read_csv(results_path, sep = \";\").sort_values('score', ascending = False)\n",
        "max_depth = decision_tree_numeric_results.max_depth.iloc[0]\n",
        "min_samples_split = decision_tree_numeric_results.min_samples_split.iloc[0]\n",
        "min_samples_leaf = decision_tree_numeric_results.min_samples_leaf.iloc[0]\n",
        "\n",
        "start = time.time()\n",
        "model = tree.DecisionTreeRegressor(max_depth= max_depth,\n",
        "                                              min_samples_split = min_samples_split,\n",
        "                                              min_samples_leaf = min_samples_leaf)\n",
        "\n",
        "model.fit(x_train, y_train)\n",
        "end = time.time()\n",
        "\n",
        "with open(results_path, \"a\") as f:\n",
        "    f.write(f\"\\n{max_depth};{min_samples_split};{min_samples_leaf};{end - start:.4f};test;{model.score(x_test, y_test)}\")"
      ],
      "execution_count": 16,
      "outputs": [
        {
          "output_type": "stream",
          "text": [
            "On iteration 25.\n"
          ],
          "name": "stdout"
        }
      ]
    },
    {
      "cell_type": "code",
      "metadata": {
        "id": "uFfwWP6C4wtk",
        "outputId": "181b6f55-b844-482a-f06b-fa0d285f8d28",
        "colab": {
          "base_uri": "https://localhost:8080/"
        }
      },
      "source": [
        "#models with numeric variables and categorics\n",
        "X = pd.get_dummies(df, drop_first = True, columns = [col for col in df.columns if col[0:3] == 'CAT']).drop(columns = ['NUM_NOTA'])\n",
        "X_columns_names = X.columns\n",
        "X = X.values\n",
        "Y = df.NUM_NOTA.values\n",
        "\n",
        "x_train, x_test, y_train, y_test = train_test_split(X, Y, test_size = 0.2, random_state = 1)\n",
        "\n",
        "results_path = '/content/drive/MyDrive/analise_enem/results/decision_tree_numeric_categoric.csv'\n",
        "with open(results_path, \"w+\") as f:\n",
        "    f.write(\"max_depth;min_samples_split;min_samples_leaf;time;data;score\")\n",
        "\n",
        "i = 0\n",
        "for max_depth in [10, 15, 20]:\n",
        "    for min_samples_split in [20, 30, 40]:\n",
        "        for min_samples_leaf in [30, 45, 60]:\n",
        "            start = time.time()\n",
        "            model = tree.DecisionTreeRegressor(max_depth= max_depth,\n",
        "                                              min_samples_split = min_samples_split,\n",
        "                                              min_samples_leaf = min_samples_leaf,\n",
        "                                              )\n",
        "            \n",
        "            cv_scores = cross_val_score(model, x_train, y_train, cv = 3)\n",
        "            end = time.time()\n",
        "            with open(results_path, \"a\") as f:\n",
        "                f.write(f\"\\n{max_depth};{min_samples_split};{min_samples_leaf};{(end - start)/3:.4f};train;{cv_scores.mean()}\")\n",
        "            i+= 1\n",
        "            if i % 25 == 0:\n",
        "                print(f\"On iteration {i}.\")\n",
        "\n",
        "decision_tree_numeric_categoric_results = pd.read_csv(results_path, sep = \";\").sort_values('score', ascending = False)\n",
        "max_depth = decision_tree_numeric_categoric_results.max_depth.iloc[0]\n",
        "min_samples_split = decision_tree_numeric_categoric_results.min_samples_split.iloc[0]\n",
        "min_samples_leaf = decision_tree_numeric_categoric_results.min_samples_leaf.iloc[0]\n",
        "\n",
        "start = time.time()\n",
        "model = tree.DecisionTreeRegressor(max_depth= max_depth,\n",
        "                                    min_samples_split = min_samples_split,\n",
        "                                    min_samples_leaf = min_samples_leaf)\n",
        "\n",
        "model.fit(x_train, y_train)\n",
        "end = time.time()\n",
        "\n",
        "with open(results_path, \"a\") as f:\n",
        "    f.write(f\"\\n{max_depth};{min_samples_split};{min_samples_leaf};{end - start:.4f};test;{model.score(x_test, y_test)}\")"
      ],
      "execution_count": 19,
      "outputs": [
        {
          "output_type": "stream",
          "text": [
            "On iteration 25.\n"
          ],
          "name": "stdout"
        }
      ]
    },
    {
      "cell_type": "markdown",
      "metadata": {
        "id": "2qFUEC2EDduB"
      },
      "source": [
        "## Modelo CatBoost"
      ]
    },
    {
      "cell_type": "code",
      "metadata": {
        "id": "I5Kib_b-DcZF",
        "outputId": "57d9a43d-420c-4e3d-cfc0-a201fa09e6a0",
        "colab": {
          "base_uri": "https://localhost:8080/"
        }
      },
      "source": [
        "#models with numeric variables and categorics\n",
        "X = df.drop(columns = ['NUM_NOTA'])\n",
        "X_columns_names = X.columns\n",
        "#X = X.values\n",
        "Y = df.NUM_NOTA.values\n",
        "\n",
        "x_train, x_test, y_train, y_test = train_test_split(X, Y, test_size = 0.2, random_state = 1)\n",
        "\n",
        "results_path = '/content/drive/MyDrive/analise_enem/results/catboost_numeric_categoric.csv'\n",
        "with open(results_path, \"w+\") as f:\n",
        "    f.write(\"iterations;learning_rate;depth;time;data;score\")\n",
        "\n",
        "i = 0\n",
        "for iterations in [400, 500, 650]:\n",
        "    for learning_rate in [0.1, 0.2, 0.5]:\n",
        "        for depth in [6, 10, 14]:\n",
        "            start = time.time()\n",
        "            model = CatBoostRegressor(iterations = iterations,\n",
        "                                      learning_rate = learning_rate,\n",
        "                                      depth = depth,\n",
        "                                      verbose = False,\n",
        "                                      cat_features = [col for col in X_columns_names if col[0:3] == 'CAT'],\n",
        "                                      random_state = 1,\n",
        "                                      task_type='GPU'\n",
        "                                      )            \n",
        "            end = time.time()\n",
        "            cv_scores = cross_val_score(model, x_train, y_train, cv = 3)\n",
        "\n",
        "            with open(results_path, \"a\") as f:\n",
        "                f.write(f\"\\n{iterations};{learning_rate};{depth};{(end - start)/3:.4f};train;{cv_scores.mean()}\")\n",
        "            i+= 1\n",
        "            if i % 5 == 0:\n",
        "                print(f\"On iteration {i}.\")\n",
        "\n",
        "catboost_results = pd.read_csv(results_path, sep = \";\").sort_values('score', ascending = False)\n",
        "iterations = catboost_results.iterations.iloc[0]\n",
        "learning_rate = catboost_results.learning_rate.iloc[0]\n",
        "depth = catboost_results.depth.iloc[0]\n",
        "\n",
        "start = time.time()\n",
        "model = CatBoostRegressor(iterations = iterations,\n",
        "                               learning_rate = learning_rate,\n",
        "                               depth = depth,\n",
        "                               verbose = False,\n",
        "                               cat_features = [col for col in X_columns_names if col[0:3] == 'CAT'],\n",
        "                               random_state = 1,\n",
        "                               task_type='GPU'\n",
        "                              )            \n",
        "\n",
        "model.fit(x_train, y_train)\n",
        "end = time.time()\n",
        "\n",
        "with open(results_path, \"a\") as f:\n",
        "    f.write(f\"\\n{iterations};{learning_rate};{depth};{end - start:.4f};test;{model.score(x_test, y_test)}\")"
      ],
      "execution_count": 22,
      "outputs": [
        {
          "output_type": "stream",
          "text": [
            "On iteration 5.\n",
            "On iteration 10.\n",
            "On iteration 15.\n",
            "On iteration 20.\n",
            "On iteration 25.\n"
          ],
          "name": "stdout"
        }
      ]
    },
    {
      "cell_type": "code",
      "metadata": {
        "id": "IVjW7U1BxiBr",
        "outputId": "72353ee4-643e-4bb8-91b4-201764ce2c49",
        "colab": {
          "base_uri": "https://localhost:8080/",
          "height": 886
        }
      },
      "source": [
        "catboost_results"
      ],
      "execution_count": 23,
      "outputs": [
        {
          "output_type": "execute_result",
          "data": {
            "text/html": [
              "<div>\n",
              "<style scoped>\n",
              "    .dataframe tbody tr th:only-of-type {\n",
              "        vertical-align: middle;\n",
              "    }\n",
              "\n",
              "    .dataframe tbody tr th {\n",
              "        vertical-align: top;\n",
              "    }\n",
              "\n",
              "    .dataframe thead th {\n",
              "        text-align: right;\n",
              "    }\n",
              "</style>\n",
              "<table border=\"1\" class=\"dataframe\">\n",
              "  <thead>\n",
              "    <tr style=\"text-align: right;\">\n",
              "      <th></th>\n",
              "      <th>iterations</th>\n",
              "      <th>learning_rate</th>\n",
              "      <th>depth</th>\n",
              "      <th>time</th>\n",
              "      <th>data</th>\n",
              "      <th>score</th>\n",
              "    </tr>\n",
              "  </thead>\n",
              "  <tbody>\n",
              "    <tr>\n",
              "      <th>25</th>\n",
              "      <td>650</td>\n",
              "      <td>0.5</td>\n",
              "      <td>10</td>\n",
              "      <td>0.0007</td>\n",
              "      <td>train</td>\n",
              "      <td>0.308283</td>\n",
              "    </tr>\n",
              "    <tr>\n",
              "      <th>23</th>\n",
              "      <td>650</td>\n",
              "      <td>0.2</td>\n",
              "      <td>14</td>\n",
              "      <td>0.0001</td>\n",
              "      <td>train</td>\n",
              "      <td>0.305837</td>\n",
              "    </tr>\n",
              "    <tr>\n",
              "      <th>26</th>\n",
              "      <td>650</td>\n",
              "      <td>0.5</td>\n",
              "      <td>14</td>\n",
              "      <td>0.0001</td>\n",
              "      <td>train</td>\n",
              "      <td>0.305243</td>\n",
              "    </tr>\n",
              "    <tr>\n",
              "      <th>24</th>\n",
              "      <td>650</td>\n",
              "      <td>0.5</td>\n",
              "      <td>6</td>\n",
              "      <td>0.0001</td>\n",
              "      <td>train</td>\n",
              "      <td>0.304569</td>\n",
              "    </tr>\n",
              "    <tr>\n",
              "      <th>16</th>\n",
              "      <td>500</td>\n",
              "      <td>0.5</td>\n",
              "      <td>10</td>\n",
              "      <td>0.0001</td>\n",
              "      <td>train</td>\n",
              "      <td>0.303416</td>\n",
              "    </tr>\n",
              "    <tr>\n",
              "      <th>22</th>\n",
              "      <td>650</td>\n",
              "      <td>0.2</td>\n",
              "      <td>10</td>\n",
              "      <td>0.0001</td>\n",
              "      <td>train</td>\n",
              "      <td>0.299155</td>\n",
              "    </tr>\n",
              "    <tr>\n",
              "      <th>7</th>\n",
              "      <td>400</td>\n",
              "      <td>0.5</td>\n",
              "      <td>10</td>\n",
              "      <td>0.0001</td>\n",
              "      <td>train</td>\n",
              "      <td>0.296886</td>\n",
              "    </tr>\n",
              "    <tr>\n",
              "      <th>13</th>\n",
              "      <td>500</td>\n",
              "      <td>0.2</td>\n",
              "      <td>10</td>\n",
              "      <td>0.0003</td>\n",
              "      <td>train</td>\n",
              "      <td>0.296322</td>\n",
              "    </tr>\n",
              "    <tr>\n",
              "      <th>17</th>\n",
              "      <td>500</td>\n",
              "      <td>0.5</td>\n",
              "      <td>14</td>\n",
              "      <td>0.0001</td>\n",
              "      <td>train</td>\n",
              "      <td>0.296167</td>\n",
              "    </tr>\n",
              "    <tr>\n",
              "      <th>6</th>\n",
              "      <td>400</td>\n",
              "      <td>0.5</td>\n",
              "      <td>6</td>\n",
              "      <td>0.0001</td>\n",
              "      <td>train</td>\n",
              "      <td>0.293811</td>\n",
              "    </tr>\n",
              "    <tr>\n",
              "      <th>15</th>\n",
              "      <td>500</td>\n",
              "      <td>0.5</td>\n",
              "      <td>6</td>\n",
              "      <td>0.0001</td>\n",
              "      <td>train</td>\n",
              "      <td>0.293439</td>\n",
              "    </tr>\n",
              "    <tr>\n",
              "      <th>21</th>\n",
              "      <td>650</td>\n",
              "      <td>0.2</td>\n",
              "      <td>6</td>\n",
              "      <td>0.0001</td>\n",
              "      <td>train</td>\n",
              "      <td>0.290454</td>\n",
              "    </tr>\n",
              "    <tr>\n",
              "      <th>8</th>\n",
              "      <td>400</td>\n",
              "      <td>0.5</td>\n",
              "      <td>14</td>\n",
              "      <td>0.0001</td>\n",
              "      <td>train</td>\n",
              "      <td>0.290182</td>\n",
              "    </tr>\n",
              "    <tr>\n",
              "      <th>14</th>\n",
              "      <td>500</td>\n",
              "      <td>0.2</td>\n",
              "      <td>14</td>\n",
              "      <td>0.0002</td>\n",
              "      <td>train</td>\n",
              "      <td>0.287492</td>\n",
              "    </tr>\n",
              "    <tr>\n",
              "      <th>4</th>\n",
              "      <td>400</td>\n",
              "      <td>0.2</td>\n",
              "      <td>10</td>\n",
              "      <td>0.0001</td>\n",
              "      <td>train</td>\n",
              "      <td>0.285008</td>\n",
              "    </tr>\n",
              "    <tr>\n",
              "      <th>10</th>\n",
              "      <td>500</td>\n",
              "      <td>0.1</td>\n",
              "      <td>10</td>\n",
              "      <td>0.0000</td>\n",
              "      <td>train</td>\n",
              "      <td>0.278093</td>\n",
              "    </tr>\n",
              "    <tr>\n",
              "      <th>12</th>\n",
              "      <td>500</td>\n",
              "      <td>0.2</td>\n",
              "      <td>6</td>\n",
              "      <td>0.0001</td>\n",
              "      <td>train</td>\n",
              "      <td>0.278041</td>\n",
              "    </tr>\n",
              "    <tr>\n",
              "      <th>20</th>\n",
              "      <td>650</td>\n",
              "      <td>0.1</td>\n",
              "      <td>14</td>\n",
              "      <td>0.0001</td>\n",
              "      <td>train</td>\n",
              "      <td>0.277228</td>\n",
              "    </tr>\n",
              "    <tr>\n",
              "      <th>19</th>\n",
              "      <td>650</td>\n",
              "      <td>0.1</td>\n",
              "      <td>10</td>\n",
              "      <td>0.0001</td>\n",
              "      <td>train</td>\n",
              "      <td>0.271568</td>\n",
              "    </tr>\n",
              "    <tr>\n",
              "      <th>11</th>\n",
              "      <td>500</td>\n",
              "      <td>0.1</td>\n",
              "      <td>14</td>\n",
              "      <td>0.0003</td>\n",
              "      <td>train</td>\n",
              "      <td>0.262452</td>\n",
              "    </tr>\n",
              "    <tr>\n",
              "      <th>3</th>\n",
              "      <td>400</td>\n",
              "      <td>0.2</td>\n",
              "      <td>6</td>\n",
              "      <td>0.0001</td>\n",
              "      <td>train</td>\n",
              "      <td>0.262246</td>\n",
              "    </tr>\n",
              "    <tr>\n",
              "      <th>2</th>\n",
              "      <td>400</td>\n",
              "      <td>0.1</td>\n",
              "      <td>14</td>\n",
              "      <td>0.0001</td>\n",
              "      <td>train</td>\n",
              "      <td>0.257719</td>\n",
              "    </tr>\n",
              "    <tr>\n",
              "      <th>5</th>\n",
              "      <td>400</td>\n",
              "      <td>0.2</td>\n",
              "      <td>14</td>\n",
              "      <td>0.0001</td>\n",
              "      <td>train</td>\n",
              "      <td>0.252708</td>\n",
              "    </tr>\n",
              "    <tr>\n",
              "      <th>18</th>\n",
              "      <td>650</td>\n",
              "      <td>0.1</td>\n",
              "      <td>6</td>\n",
              "      <td>0.0001</td>\n",
              "      <td>train</td>\n",
              "      <td>0.242536</td>\n",
              "    </tr>\n",
              "    <tr>\n",
              "      <th>9</th>\n",
              "      <td>500</td>\n",
              "      <td>0.1</td>\n",
              "      <td>6</td>\n",
              "      <td>0.0001</td>\n",
              "      <td>train</td>\n",
              "      <td>0.228857</td>\n",
              "    </tr>\n",
              "    <tr>\n",
              "      <th>1</th>\n",
              "      <td>400</td>\n",
              "      <td>0.1</td>\n",
              "      <td>10</td>\n",
              "      <td>0.0001</td>\n",
              "      <td>train</td>\n",
              "      <td>0.215969</td>\n",
              "    </tr>\n",
              "    <tr>\n",
              "      <th>0</th>\n",
              "      <td>400</td>\n",
              "      <td>0.1</td>\n",
              "      <td>6</td>\n",
              "      <td>0.0002</td>\n",
              "      <td>train</td>\n",
              "      <td>0.188029</td>\n",
              "    </tr>\n",
              "  </tbody>\n",
              "</table>\n",
              "</div>"
            ],
            "text/plain": [
              "    iterations  learning_rate  depth    time   data     score\n",
              "25         650            0.5     10  0.0007  train  0.308283\n",
              "23         650            0.2     14  0.0001  train  0.305837\n",
              "26         650            0.5     14  0.0001  train  0.305243\n",
              "24         650            0.5      6  0.0001  train  0.304569\n",
              "16         500            0.5     10  0.0001  train  0.303416\n",
              "22         650            0.2     10  0.0001  train  0.299155\n",
              "7          400            0.5     10  0.0001  train  0.296886\n",
              "13         500            0.2     10  0.0003  train  0.296322\n",
              "17         500            0.5     14  0.0001  train  0.296167\n",
              "6          400            0.5      6  0.0001  train  0.293811\n",
              "15         500            0.5      6  0.0001  train  0.293439\n",
              "21         650            0.2      6  0.0001  train  0.290454\n",
              "8          400            0.5     14  0.0001  train  0.290182\n",
              "14         500            0.2     14  0.0002  train  0.287492\n",
              "4          400            0.2     10  0.0001  train  0.285008\n",
              "10         500            0.1     10  0.0000  train  0.278093\n",
              "12         500            0.2      6  0.0001  train  0.278041\n",
              "20         650            0.1     14  0.0001  train  0.277228\n",
              "19         650            0.1     10  0.0001  train  0.271568\n",
              "11         500            0.1     14  0.0003  train  0.262452\n",
              "3          400            0.2      6  0.0001  train  0.262246\n",
              "2          400            0.1     14  0.0001  train  0.257719\n",
              "5          400            0.2     14  0.0001  train  0.252708\n",
              "18         650            0.1      6  0.0001  train  0.242536\n",
              "9          500            0.1      6  0.0001  train  0.228857\n",
              "1          400            0.1     10  0.0001  train  0.215969\n",
              "0          400            0.1      6  0.0002  train  0.188029"
            ]
          },
          "metadata": {
            "tags": []
          },
          "execution_count": 23
        }
      ]
    },
    {
      "cell_type": "markdown",
      "metadata": {
        "id": "s_Yzpmd4Fpui"
      },
      "source": [
        "## Modelo Distributed Random Forest"
      ]
    },
    {
      "cell_type": "code",
      "metadata": {
        "id": "rtcyX0_7Or6p",
        "outputId": "66ae764b-a662-42cb-f501-413c0cac80f8",
        "colab": {
          "base_uri": "https://localhost:8080/",
          "height": 630
        }
      },
      "source": [
        "h2o.init()\n",
        "\n",
        "h2o_df = h2o.H2OFrame(df)\n",
        "for col in h2o_df.columns:\n",
        "    if col[0:3] == 'CAT':\n",
        "        h2o_df[col] = h2o_df[col].asfactor()\n",
        "\n",
        "df_train, df_test = h2o_df.split_frame(ratios=[.8], seed=1)\n",
        "\n",
        "\n",
        "results_path = '/content/drive/MyDrive/analise_enem/results/drf_numeric_categoric.csv'\n",
        "with open(results_path, \"w+\") as f:\n",
        "    f.write(\"ntrees;max_depth;time;score\")\n",
        "\n",
        "\n",
        "i = 0\n",
        "for ntrees in [25, 50, 75]:\n",
        "    for max_depth in [15, 20, 25]:\n",
        "        start = time.time()\n",
        "        model = H2ORandomForestEstimator(\n",
        "                                        nfolds = 3,\n",
        "                                        ntrees = ntrees,\n",
        "                                        max_depth = max_depth,\n",
        "                                        seed = 1,\n",
        "                                        )            \n",
        "        model.train(x = [col for col in h2o_df.columns if col != 'NUM_NOTA'],\n",
        "                    y = 'NUM_NOTA',\n",
        "                    training_frame = df_train,\n",
        "                    validation_frame = df_test)\n",
        "        end = time.time()\n",
        "\n",
        "        with open(results_path, \"a\") as f:\n",
        "            f.write(f\"\\n{ntrees};{max_depth};{end-start:.4f};{model.r2(valid = True)}\")\n",
        "        i+= 1\n",
        "        if i % 5 == 0:\n",
        "            print(f\"On iteration {i}.\")"
      ],
      "execution_count": 41,
      "outputs": [
        {
          "output_type": "stream",
          "text": [
            "Checking whether there is an H2O instance running at http://localhost:54321 . connected.\n"
          ],
          "name": "stdout"
        },
        {
          "output_type": "display_data",
          "data": {
            "text/html": [
              "<div style=\"overflow:auto\"><table style=\"width:50%\"><tr><td>H2O_cluster_uptime:</td>\n",
              "<td>30 mins 57 secs</td></tr>\n",
              "<tr><td>H2O_cluster_timezone:</td>\n",
              "<td>Etc/UTC</td></tr>\n",
              "<tr><td>H2O_data_parsing_timezone:</td>\n",
              "<td>UTC</td></tr>\n",
              "<tr><td>H2O_cluster_version:</td>\n",
              "<td>3.32.1.3</td></tr>\n",
              "<tr><td>H2O_cluster_version_age:</td>\n",
              "<td>1 month and 2 days </td></tr>\n",
              "<tr><td>H2O_cluster_name:</td>\n",
              "<td>H2O_from_python_unknownUser_w3qhi0</td></tr>\n",
              "<tr><td>H2O_cluster_total_nodes:</td>\n",
              "<td>1</td></tr>\n",
              "<tr><td>H2O_cluster_free_memory:</td>\n",
              "<td>3.165 Gb</td></tr>\n",
              "<tr><td>H2O_cluster_total_cores:</td>\n",
              "<td>2</td></tr>\n",
              "<tr><td>H2O_cluster_allowed_cores:</td>\n",
              "<td>2</td></tr>\n",
              "<tr><td>H2O_cluster_status:</td>\n",
              "<td>locked, healthy</td></tr>\n",
              "<tr><td>H2O_connection_url:</td>\n",
              "<td>http://localhost:54321</td></tr>\n",
              "<tr><td>H2O_connection_proxy:</td>\n",
              "<td>{\"http\": null, \"https\": null}</td></tr>\n",
              "<tr><td>H2O_internal_security:</td>\n",
              "<td>False</td></tr>\n",
              "<tr><td>H2O_API_Extensions:</td>\n",
              "<td>Amazon S3, XGBoost, Algos, AutoML, Core V3, TargetEncoder, Core V4</td></tr>\n",
              "<tr><td>Python_version:</td>\n",
              "<td>3.7.10 final</td></tr></table></div>"
            ],
            "text/plain": [
              "--------------------------  ------------------------------------------------------------------\n",
              "H2O_cluster_uptime:         30 mins 57 secs\n",
              "H2O_cluster_timezone:       Etc/UTC\n",
              "H2O_data_parsing_timezone:  UTC\n",
              "H2O_cluster_version:        3.32.1.3\n",
              "H2O_cluster_version_age:    1 month and 2 days\n",
              "H2O_cluster_name:           H2O_from_python_unknownUser_w3qhi0\n",
              "H2O_cluster_total_nodes:    1\n",
              "H2O_cluster_free_memory:    3.165 Gb\n",
              "H2O_cluster_total_cores:    2\n",
              "H2O_cluster_allowed_cores:  2\n",
              "H2O_cluster_status:         locked, healthy\n",
              "H2O_connection_url:         http://localhost:54321\n",
              "H2O_connection_proxy:       {\"http\": null, \"https\": null}\n",
              "H2O_internal_security:      False\n",
              "H2O_API_Extensions:         Amazon S3, XGBoost, Algos, AutoML, Core V3, TargetEncoder, Core V4\n",
              "Python_version:             3.7.10 final\n",
              "--------------------------  ------------------------------------------------------------------"
            ]
          },
          "metadata": {
            "tags": []
          }
        },
        {
          "output_type": "stream",
          "text": [
            "Parse progress: |█████████████████████████████████████████████████████████| 100%\n"
          ],
          "name": "stdout"
        },
        {
          "output_type": "stream",
          "text": [
            "/usr/local/lib/python3.7/dist-packages/h2o/estimators/estimator_base.py:200: RuntimeWarning: Dropping bad and constant columns: [CAT_CADEIRA_ACOLCHOADA, CAT_LACTANTE, CAT_GUIA_INTERPRETE, CAT_IDOSO, CAT_BRAILLE, CAT_MATERIAL_ESPECIFICO, CAT_SOROBAN, CAT_CEGUEIRA, CAT_LEITURA_LABIAL, CAT_CADEIRA_CANHOTO, CAT_SURDEZ, CAT_VISAO_MONOCULAR, CAT_MOBILIARIO_OBESO, CAT_MAQUINA_BRAILE, CAT_SONDA, CAT_LIBRAS, CAT_COMPUTADOR, CAT_AMPLIADA_18, CAT_NOME_SOCIAL, CAT_DEFICIENCIA_AUDITIVA, CAT_AUTISMO, CAT_MESA_CADEIRA_SEPARADA, CAT_ESTUDA_CLASSE_HOSPITALAR, CAT_SALA_ACOMPANHANTE, CAT_MOBILIARIO_ESPECIFICO, CAT_PROTETOR_AURICULAR, CAT_SALA_ESPECIAL, CAT_MEDIDOR_GLICOSE, CAT_PROVA_DEITADO, CAT_LAMINA_OVERLAY, CAT_GESTANTE, CAT_SALA_INDIVIDUAL, CAT_SURDO_CEGUEIRA, CAT_MARCA_PASSO, CAT_MEDICAMENTOS, CAT_APOIO_PERNA, CAT_CADEIRA_ESPECIAL]\n",
            "  warnings.warn(mesg[\"message\"], RuntimeWarning)\n"
          ],
          "name": "stderr"
        },
        {
          "output_type": "stream",
          "text": [
            "drf Model Build progress: |███████████████████████████████████████████████| 100%\n",
            "drf Model Build progress: |███████████████████████████████████████████████| 100%\n",
            "drf Model Build progress: |███████████████████████████████████████████████| 100%\n",
            "drf Model Build progress: |███████████████████████████████████████████████| 100%\n",
            "drf Model Build progress: |███████████████████████████████████████████████| 100%\n",
            "On iteration 5.\n",
            "drf Model Build progress: |███████████████████████████████████████████████| 100%\n",
            "drf Model Build progress: |███████████████████████████████████████████████| 100%\n",
            "drf Model Build progress: |███████████████████████████████████████████████| 100%\n",
            "drf Model Build progress: |███████████████████████████████████████████████| 100%\n"
          ],
          "name": "stdout"
        }
      ]
    }
  ]
}